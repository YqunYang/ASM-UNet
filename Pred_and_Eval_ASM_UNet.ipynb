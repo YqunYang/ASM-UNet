{
 "cells": [
  {
   "cell_type": "markdown",
   "id": "2ff5d4c9-009d-4aea-98b0-4eb3806c1a22",
   "metadata": {},
   "source": [
    "# 🧠 U-Net Inference Script (Single Dataset)\n",
    "This notebook runs inference using a selected dataset with nnU-Net."
   ]
  },
  {
   "cell_type": "code",
   "execution_count": 1,
   "id": "cd2849c3-f706-4c48-acbf-cbd9cf0667e9",
   "metadata": {
    "execution": {
     "iopub.execute_input": "2025-08-09T16:33:17.448856Z",
     "iopub.status.busy": "2025-08-09T16:33:17.448608Z",
     "iopub.status.idle": "2025-08-09T16:33:20.559998Z",
     "shell.execute_reply": "2025-08-09T16:33:20.558862Z",
     "shell.execute_reply.started": "2025-08-09T16:33:17.448832Z"
    }
   },
   "outputs": [],
   "source": [
    "import json\n",
    "import os\n",
    "import warnings\n",
    "\n",
    "import torch\n",
    "from asmunet.evalute_utils import compute_metrics_on_folder, labels_to_list_of_regions\n",
    "from batchgenerators.utilities.file_and_folder_operations import join\n",
    "from nnunetv2.imageio.simpleitk_reader_writer import SimpleITKIO\n",
    "from nnunetv2.inference.predict_from_raw_data import nnUNetPredictor\n",
    "from nnunetv2.paths import nnUNet_raw, nnUNet_results"
   ]
  },
  {
   "cell_type": "markdown",
   "id": "c7ec255c-92b3-4309-a507-7e64cd189260",
   "metadata": {},
   "source": [
    "### 🔧 Inference Configuration\n",
    "Set key parameters for nnU-Net inference, including dataset ID, trainer, checkpoint, and GPU usage."
   ]
  },
  {
   "cell_type": "code",
   "execution_count": 2,
   "id": "6c524910-e391-4889-89a6-d025419b60af",
   "metadata": {
    "execution": {
     "iopub.execute_input": "2025-08-09T16:33:20.562658Z",
     "iopub.status.busy": "2025-08-09T16:33:20.562030Z",
     "iopub.status.idle": "2025-08-09T16:33:20.567717Z",
     "shell.execute_reply": "2025-08-09T16:33:20.566722Z",
     "shell.execute_reply.started": "2025-08-09T16:33:20.562622Z"
    }
   },
   "outputs": [],
   "source": [
    "Dataset_ID = 1  # ID of the dataset\n",
    "fold = \"all\"  # Use \"all\" or a specific fold (e.g., \"1\")\n",
    "use_gpu = \"0\"  # GPU ID to be used\n",
    "tr = \"nnUNetTrainer_asmunet\"  # Trainer name\n",
    "checkpoint_name = \"checkpoint_final.pth\"  # Or \"checkpoint_latest.pth\"\n",
    "predicited_set = \"imagesTs\"  # Dataset to predict (typically \"imagesTs\")"
   ]
  },
  {
   "cell_type": "markdown",
   "id": "32c2b795-8a44-480a-abc8-30d95336ea17",
   "metadata": {},
   "source": [
    "### 🎯 Dataset Selection and GPU Configuration\n",
    "Set the GPU device and identify the target dataset based on the given ID."
   ]
  },
  {
   "cell_type": "code",
   "execution_count": 3,
   "id": "03563a2e-fa4c-4d48-8eb3-324fbb9a1f84",
   "metadata": {
    "execution": {
     "iopub.execute_input": "2025-08-09T16:33:20.569604Z",
     "iopub.status.busy": "2025-08-09T16:33:20.569000Z",
     "iopub.status.idle": "2025-08-09T16:33:20.578049Z",
     "shell.execute_reply": "2025-08-09T16:33:20.576442Z",
     "shell.execute_reply.started": "2025-08-09T16:33:20.569552Z"
    }
   },
   "outputs": [],
   "source": [
    "os.environ[\"CUDA_VISIBLE_DEVICES\"] = use_gpu\n",
    "dataset_name = [i for i in os.listdir(nnUNet_raw) if str(Dataset_ID).zfill(3) in i]\n",
    "assert len(dataset_name) != 0, f\"No dataset found for ID {Dataset_ID:03d}\"\n",
    "dataset_name = dataset_name[0]"
   ]
  },
  {
   "cell_type": "markdown",
   "id": "db59af3f-a451-4c84-8c8b-aad8b68f6e7c",
   "metadata": {},
   "source": [
    "### 🚀 Initialize nnU-Net Predictor\n",
    "Set up the nnU-Net predictor and load the trained model checkpoint."
   ]
  },
  {
   "cell_type": "code",
   "execution_count": 4,
   "id": "f60554e1-c1c6-493b-88c8-51277b293293",
   "metadata": {
    "execution": {
     "iopub.execute_input": "2025-08-09T16:33:20.599261Z",
     "iopub.status.busy": "2025-08-09T16:33:20.598719Z",
     "iopub.status.idle": "2025-08-09T16:33:22.733199Z",
     "shell.execute_reply": "2025-08-09T16:33:22.732188Z",
     "shell.execute_reply.started": "2025-08-09T16:33:20.599212Z"
    }
   },
   "outputs": [
    {
     "name": "stdout",
     "output_type": "stream",
     "text": [
      "##################### Constructing ASM-UNet without low-memory-low-speed mode... #####################\n"
     ]
    }
   ],
   "source": [
    "with warnings.catch_warnings():\n",
    "    warnings.simplefilter(\"ignore\")\n",
    "\n",
    "    predictor = nnUNetPredictor(\n",
    "        tile_step_size=0.5,\n",
    "        use_gaussian=True,\n",
    "        use_mirroring=True,\n",
    "        perform_everything_on_device=True,\n",
    "        device=torch.device(\"cuda\", 0),\n",
    "        verbose=False,\n",
    "        verbose_preprocessing=False,\n",
    "        allow_tqdm=True,\n",
    "    )\n",
    "    predictor.initialize_from_trained_model_folder(\n",
    "        join(nnUNet_results, dataset_name + \"/\" + tr + \"__nnUNetPlans__3d_fullres\"),\n",
    "        use_folds=(fold),\n",
    "        checkpoint_name=checkpoint_name,\n",
    "    )"
   ]
  },
  {
   "cell_type": "markdown",
   "id": "2e61f484-7b61-43fd-9b1e-bc8fd71a968a",
   "metadata": {},
   "source": [
    "### 🧠 Run Inference on Test Set\n",
    "Perform prediction using the initialized nnU-Net model on the specified dataset."
   ]
  },
  {
   "cell_type": "code",
   "execution_count": null,
   "id": "715aa706-9420-492e-9ddd-9c3535793155",
   "metadata": {
    "execution": {
     "iopub.execute_input": "2025-08-09T16:33:22.734422Z",
     "iopub.status.busy": "2025-08-09T16:33:22.734019Z",
     "iopub.status.idle": "2025-08-09T17:28:24.650792Z",
     "shell.execute_reply": "2025-08-09T17:28:24.648806Z",
     "shell.execute_reply.started": "2025-08-09T16:33:22.734398Z"
    },
    "scrolled": true
   },
   "outputs": [
    {
     "name": "stdout",
     "output_type": "stream",
     "text": [
      "There are 30 cases in the source folder\n",
      "I am process 0 out of 1 (max process ID is 0, we start counting with 0!)\n",
      "There are 30 cases that I would like to predict\n",
      "overwrite was set to False, so I am only working on cases that haven't been predicted yet. That's 30 cases.\n"
     ]
    }
   ],
   "source": [
    "p = predictor.predict_from_files(\n",
    "    join(nnUNet_raw, dataset_name, predicited_set),\n",
    "    join(\n",
    "        nnUNet_results,\n",
    "        dataset_name,\n",
    "        f\"{tr}__nnUNetPlans__3d_fullres\",\n",
    "        f\"{predicited_set}_predlowres\",\n",
    "        f\"fold_{fold}\",\n",
    "    ),\n",
    "    save_probabilities=False,\n",
    "    overwrite=False,\n",
    "    num_processes_preprocessing=2,\n",
    "    num_processes_segmentation_export=2,\n",
    "    folder_with_segs_from_prev_stage=None,\n",
    "    num_parts=1,\n",
    "    part_id=0,\n",
    ")"
   ]
  },
  {
   "cell_type": "markdown",
   "id": "a3cab2b2-205b-4838-958c-79c7821efea2",
   "metadata": {},
   "source": [
    "### 📊 Evaluate Segmentation Results\n",
    "Compute evaluation metrics by comparing predictions with reference labels and save them to a JSON summary."
   ]
  },
  {
   "cell_type": "code",
   "execution_count": null,
   "id": "f514cac6-2135-4d47-80ef-25889b3673c5",
   "metadata": {
    "execution": {
     "iopub.execute_input": "2025-08-09T17:28:24.653162Z",
     "iopub.status.busy": "2025-08-09T17:28:24.652695Z",
     "iopub.status.idle": "2025-08-09T17:29:34.334209Z",
     "shell.execute_reply": "2025-08-09T17:29:34.331798Z",
     "shell.execute_reply.started": "2025-08-09T17:28:24.653118Z"
    },
    "scrolled": true
   },
   "outputs": [],
   "source": [
    "folder_ref = join(nnUNet_raw, dataset_name, \"labels\" + predicited_set[-2:])\n",
    "folder_pred = join(\n",
    "    nnUNet_results,\n",
    "    dataset_name,\n",
    "    f\"{tr}__nnUNetPlans__3d_fullres\",\n",
    "    f\"{predicited_set}_predlowres\",\n",
    "    f\"fold_{fold}\",\n",
    ")\n",
    "output_file = join(\n",
    "    nnUNet_results,\n",
    "    dataset_name,\n",
    "    f\"{tr}__nnUNetPlans__3d_fullres\",\n",
    "    f\"{predicited_set}_predlowres\",\n",
    "    f\"fold_{fold}\",\n",
    "    \"summary.json\",\n",
    ")\n",
    "image_reader_writer = SimpleITKIO()\n",
    "file_ending = \".nii.gz\"\n",
    "label_len = len(\n",
    "    json.load(open(join(nnUNet_raw, dataset_name, \"dataset.json\")))[\"labels\"]\n",
    ")\n",
    "regions = labels_to_list_of_regions(list(range(1, label_len)))\n",
    "ignore_label = None\n",
    "num_processes = 12\n",
    "results = compute_metrics_on_folder(\n",
    "    folder_ref,\n",
    "    folder_pred,\n",
    "    output_file,\n",
    "    image_reader_writer,\n",
    "    file_ending,\n",
    "    regions,\n",
    "    ignore_label,\n",
    "    num_processes,\n",
    ")"
   ]
  },
  {
   "cell_type": "code",
   "execution_count": null,
   "id": "b7325832-2620-4f20-8ea2-9315d8203314",
   "metadata": {
    "execution": {
     "iopub.execute_input": "2025-08-09T17:29:34.336997Z",
     "iopub.status.busy": "2025-08-09T17:29:34.336364Z",
     "iopub.status.idle": "2025-08-09T17:29:34.349101Z",
     "shell.execute_reply": "2025-08-09T17:29:34.347262Z",
     "shell.execute_reply.started": "2025-08-09T17:29:34.336939Z"
    }
   },
   "outputs": [],
   "source": [
    "r = json.load(open(output_file))\n",
    "for label, metrics in r[\"mean\"].items():\n",
    "    print(f\"Label: {label}\", f\"Dice: {metrics['Dice']}\")\n",
    "print(r[\"foreground_mean\"][\"Dice\"])"
   ]
  },
  {
   "cell_type": "code",
   "execution_count": null,
   "id": "3191af5f-1d2a-4e57-8fa3-7d1462f504eb",
   "metadata": {},
   "outputs": [],
   "source": []
  }
 ],
 "metadata": {
  "kernelspec": {
   "display_name": "Python [conda env:ASM_UNet]",
   "language": "python",
   "name": "conda-env-ASM_UNet-py"
  },
  "language_info": {
   "codemirror_mode": {
    "name": "ipython",
    "version": 3
   },
   "file_extension": ".py",
   "mimetype": "text/x-python",
   "name": "python",
   "nbconvert_exporter": "python",
   "pygments_lexer": "ipython3",
   "version": "3.9.19"
  }
 },
 "nbformat": 4,
 "nbformat_minor": 5
}
